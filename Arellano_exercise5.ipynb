{
  "cells": [
    {
      "cell_type": "markdown",
      "metadata": {
        "id": "k16mt-P7B1ws"
      },
      "source": [
        "# Exercise 5"
      ]
    },
    {
      "cell_type": "markdown",
      "metadata": {
        "id": "GOqP08ekB1ww"
      },
      "source": [
        "#### 1. Create a dictionary of your 10 favorite songs."
      ]
    },
    {
      "cell_type": "markdown",
      "metadata": {
        "id": "UIy7cSn_B1wx"
      },
      "source": [
        "Example:\n",
        "\n",
        "|KEY|VALUE|\n",
        "|---|---|\n",
        "|001|My Love|\n",
        "|002|Like a rose|"
      ]
    },
    {
      "cell_type": "code",
      "execution_count": 59,
      "metadata": {
        "id": "NPpR06EtB1wy",
        "colab": {
          "base_uri": "https://localhost:8080/"
        },
        "outputId": "4b7dc9e7-98a4-4c7f-a9c2-3dc8fdff4ef5"
      },
      "outputs": [
        {
          "output_type": "stream",
          "name": "stdout",
          "text": [
            "{'001': 'Jopay', '002': 'Raining in Manila', '003': 'Fallen', '004': 'Needy', '005': 'Dahlia', '006': 'SpecialZ', '007': 'All I want', '008': 'Vampire', '009': 'All to well', '010': 'White horse'}\n"
          ]
        }
      ],
      "source": [
        "mydictionary = {\n",
        "  \"001\": \"Jopay\",\n",
        "  \"002\": \"Raining in Manila\",\n",
        "  \"003\": \"Fallen\",\n",
        "  \"004\": \"Needy\",\n",
        "  \"005\": \"Dahlia\",\n",
        "  \"006\": \"SpecialZ\",\n",
        "  \"007\": \"All I want\",\n",
        "  \"008\": \"Vampire\",\n",
        "  \"009\": \"All to well\",\n",
        "  \"010\": \"White horse\",\n",
        "}\n",
        "print(mydictionary)"
      ]
    },
    {
      "cell_type": "markdown",
      "metadata": {
        "id": "HMZTT37jB1w0"
      },
      "source": [
        "#### 2. Loop through the dictionary by its **key** and **value**"
      ]
    },
    {
      "cell_type": "code",
      "execution_count": 60,
      "metadata": {
        "id": "Lbdwl3dtB1w0",
        "colab": {
          "base_uri": "https://localhost:8080/"
        },
        "outputId": "0ce6b806-9fe0-4a81-d583-064fb61c6041"
      },
      "outputs": [
        {
          "output_type": "stream",
          "name": "stdout",
          "text": [
            "001 Jopay\n",
            "002 Raining in Manila\n",
            "003 Fallen\n",
            "004 Needy\n",
            "005 Dahlia\n",
            "006 SpecialZ\n",
            "007 All I want\n",
            "008 Vampire\n",
            "009 All to well\n",
            "010 White horse\n"
          ]
        }
      ],
      "source": [
        "for x, y in mydictionary.items():\n",
        "  print(x, y)"
      ]
    },
    {
      "cell_type": "markdown",
      "metadata": {
        "id": "dl4sIUOxB1w0"
      },
      "source": [
        "#### 3. Add one additional song"
      ]
    },
    {
      "cell_type": "code",
      "execution_count": 61,
      "metadata": {
        "id": "x0eJTq95B1w1",
        "colab": {
          "base_uri": "https://localhost:8080/"
        },
        "outputId": "e69bf010-8497-4b23-ca89-3741e12421d3"
      },
      "outputs": [
        {
          "output_type": "execute_result",
          "data": {
            "text/plain": [
              "{'001': 'Jopay',\n",
              " '002': 'Raining in Manila',\n",
              " '003': 'Fallen',\n",
              " '004': 'Needy',\n",
              " '005': 'Dahlia',\n",
              " '006': 'SpecialZ',\n",
              " '007': 'All I want',\n",
              " '008': 'Vampire',\n",
              " '009': 'All to well',\n",
              " '010': 'White horse',\n",
              " '011': 'Cupid'}"
            ]
          },
          "metadata": {},
          "execution_count": 61
        }
      ],
      "source": [
        "mydictionary[\"011\"] = \"Cupid\"\n",
        "mydictionary"
      ]
    },
    {
      "cell_type": "markdown",
      "metadata": {
        "id": "UpHDzFbCB1w3"
      },
      "source": [
        "#### 4. Remove one song"
      ]
    },
    {
      "cell_type": "code",
      "execution_count": 62,
      "metadata": {
        "id": "-XqCM40iB1w3",
        "colab": {
          "base_uri": "https://localhost:8080/"
        },
        "outputId": "e71eb267-9588-4114-8102-5ec6e9640e06"
      },
      "outputs": [
        {
          "output_type": "execute_result",
          "data": {
            "text/plain": [
              "{'002': 'Raining in Manila',\n",
              " '003': 'Fallen',\n",
              " '004': 'Needy',\n",
              " '005': 'Dahlia',\n",
              " '006': 'SpecialZ',\n",
              " '007': 'All I want',\n",
              " '008': 'Vampire',\n",
              " '009': 'All to well',\n",
              " '010': 'White horse',\n",
              " '011': 'Cupid'}"
            ]
          },
          "metadata": {},
          "execution_count": 62
        }
      ],
      "source": [
        "mydictionary.pop(\"001\")\n",
        "mydictionary"
      ]
    },
    {
      "cell_type": "markdown",
      "metadata": {
        "id": "PFx-xaCBB1w4"
      },
      "source": [
        "#### 5. Create a nested dictionary of your 10 favorite songs with 5 genres. Display all of the items of the nested dictionary\n",
        "\n",
        "- Each nested dictionary's key should be the genre of the song\n",
        "- Put each song in their respective genre"
      ]
    },
    {
      "cell_type": "markdown",
      "metadata": {
        "id": "SUxzUOGDB1w4"
      },
      "source": [
        "Example:\n",
        "\n",
        "\n",
        "|KEY|VALUE|\n",
        "|---|---|\n",
        "|Pop|{001, Baby}|\n",
        "|Rock|{001, Enter Sandman}|"
      ]
    },
    {
      "cell_type": "code",
      "execution_count": 68,
      "metadata": {
        "id": "ItIXxxB3B1w4",
        "colab": {
          "base_uri": "https://localhost:8080/"
        },
        "outputId": "4a0fe544-fea3-4d61-fc48-021552d3422a"
      },
      "outputs": [
        {
          "output_type": "execute_result",
          "data": {
            "text/plain": [
              "{'OPM': {'001': 'Jopay', '002': 'Raining in Manila', '003': 'Fallen'},\n",
              " 'Rap': {'001': 'Needy', '002': 'Dahlia'},\n",
              " 'Jpop': {'001': 'SpecialZ'},\n",
              " 'Pop': {'001': 'All I want',\n",
              "  '002': 'Vampire',\n",
              "  '003': 'All to well',\n",
              "  '004': 'White horse'}}"
            ]
          },
          "metadata": {},
          "execution_count": 68
        }
      ],
      "source": [
        "mydictionary = {\n",
        "  \"OPM\" : {\n",
        "    \"001\" : \"Jopay\",\n",
        "    \"002\": 'Raining in Manila',\n",
        "    \"003\": 'Fallen'\n",
        "  },\n",
        "  \"Rap\" : {\n",
        "    \"001\": \"Needy\",\n",
        "    \"002\": \"Dahlia\",\n",
        "  },\n",
        "  \"Jpop\" : {\n",
        "    \"001\": \"SpecialZ\"\n",
        "  },\n",
        "  \"Pop\" : {\n",
        "    \"001\": \"All I want\",\n",
        "    \"002\": \"Vampire\",\n",
        "    \"003\": \"All to well\",\n",
        "    \"004\": \"White horse\"\n",
        "  }\n",
        "}\n",
        "\n",
        "mydictionary"
      ]
    },
    {
      "cell_type": "markdown",
      "metadata": {
        "id": "HLo7py8lB1w4"
      },
      "source": [
        "#### 6. Print the first song of the first genre"
      ]
    },
    {
      "cell_type": "code",
      "source": [
        "print(mydictionary[\"OPM\"][\"001\"])"
      ],
      "metadata": {
        "colab": {
          "base_uri": "https://localhost:8080/"
        },
        "id": "RGcjmVxRGuNS",
        "outputId": "2b5cd3f6-a373-4cb8-9971-aabced79c2c8"
      },
      "execution_count": 64,
      "outputs": [
        {
          "output_type": "stream",
          "name": "stdout",
          "text": [
            "Jopay\n"
          ]
        }
      ]
    },
    {
      "cell_type": "markdown",
      "metadata": {
        "id": "njLPziCxB1w5"
      },
      "source": [
        "#### 7. Print the first song of the last genre"
      ]
    },
    {
      "cell_type": "code",
      "execution_count": 65,
      "metadata": {
        "id": "YJi06E6XB1w5",
        "colab": {
          "base_uri": "https://localhost:8080/"
        },
        "outputId": "b2d264dd-b1f9-4497-9dd2-cd651f70ceda"
      },
      "outputs": [
        {
          "output_type": "stream",
          "name": "stdout",
          "text": [
            "All I want\n"
          ]
        }
      ],
      "source": [
        "print(mydictionary[\"Pop\"][\"001\"])"
      ]
    }
  ],
  "metadata": {
    "kernelspec": {
      "display_name": "Python 3",
      "language": "python",
      "name": "python3"
    },
    "language_info": {
      "codemirror_mode": {
        "name": "ipython",
        "version": 3
      },
      "file_extension": ".py",
      "mimetype": "text/x-python",
      "name": "python",
      "nbconvert_exporter": "python",
      "pygments_lexer": "ipython3",
      "version": "3.11.4"
    },
    "orig_nbformat": 4,
    "colab": {
      "provenance": []
    }
  },
  "nbformat": 4,
  "nbformat_minor": 0
}