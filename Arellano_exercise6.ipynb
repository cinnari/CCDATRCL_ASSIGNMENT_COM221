{
  "cells": [
    {
      "cell_type": "markdown",
      "metadata": {
        "id": "8iqnksi0WW5F"
      },
      "source": [
        "# Exercise 6"
      ]
    },
    {
      "cell_type": "markdown",
      "metadata": {
        "id": "G5DyIIi0WW5J"
      },
      "source": [
        "#### Pre-defined code"
      ]
    },
    {
      "cell_type": "code",
      "execution_count": 15,
      "metadata": {
        "id": "5y4Q9YhNWW5K"
      },
      "outputs": [],
      "source": [
        "class Node:\n",
        "    def __init__(self, item):\n",
        "        self.left = None\n",
        "        self.right = None\n",
        "        self.val = item"
      ]
    },
    {
      "cell_type": "code",
      "execution_count": 16,
      "metadata": {
        "id": "AcUz4hiqWW5M"
      },
      "outputs": [],
      "source": [
        "def inorder(root):\n",
        "\n",
        "    if root:\n",
        "        # Traverse left\n",
        "        inorder(root.left)\n",
        "        # Traverse root\n",
        "        print(str(root.val) + \"->\", end='')\n",
        "        # Traverse right\n",
        "        inorder(root.right)\n",
        "\n",
        "def postorder(root):\n",
        "\n",
        "    if root:\n",
        "        # Traverse left\n",
        "        postorder(root.left)\n",
        "        # Traverse right\n",
        "        postorder(root.right)\n",
        "        # Traverse root\n",
        "        print(str(root.val) + \"->\", end='')\n",
        "\n",
        "def preorder(root):\n",
        "\n",
        "    if root:\n",
        "        # Traverse root\n",
        "        print(str(root.val) + \"->\", end='')\n",
        "        # Traverse left\n",
        "        preorder(root.left)\n",
        "        # Traverse right\n",
        "        preorder(root.right)"
      ]
    },
    {
      "cell_type": "markdown",
      "metadata": {
        "id": "4XSTtFIAWW5N"
      },
      "source": [
        "#### 1. Construct Create your own company org chart and put yourself as CEO.\n",
        "\n",
        "Using a Tree data structure,\n",
        "\n",
        "- Assign yourself as CEO\n",
        "\n",
        "- Assign any of your classmate as HR Director\n",
        "- Assign any of your classmate as Sales Director\n",
        "\n",
        "- Assign any of your classmate as trainee. His/her boss is the HR Director\n",
        "- Assign any of your classmate as a staff and trainee. Their boss is the Sales Director\n"
      ]
    },
    {
      "cell_type": "markdown",
      "metadata": {
        "id": "eqkgDMRLWW5O"
      },
      "source": [
        "<img src=\"https://thumbs.dreamstime.com/z/cartoon-organization-chart-some-company-93778925.jpg\"/>"
      ]
    },
    {
      "cell_type": "code",
      "execution_count": 22,
      "metadata": {
        "id": "dPgN9HcsWW5O"
      },
      "outputs": [],
      "source": [
        "CEO = \"Tati\"\n",
        "HR = \"Jerico\"\n",
        "Sales = \"Blix\"\n",
        "trainee1 = \"Francyne\"\n",
        "Staff = \"Jillian\"\n",
        "trainee2 = \"Mureign\"\n",
        "\n",
        "company = Node(CEO)\n",
        "company.left = Node(HR)\n",
        "company.right  = Node(Sales)\n",
        "company.left.left = Node(trainee1)\n",
        "company.right.left = Node(Staff)\n",
        "company.right.right = Node(trainee2)"
      ]
    },
    {
      "cell_type": "markdown",
      "metadata": {
        "id": "w7o3G-CtWW5P"
      },
      "source": [
        "#### 2. Traverse the tree in in-order traversal"
      ]
    },
    {
      "cell_type": "code",
      "execution_count": 23,
      "metadata": {
        "id": "sLuS2DkAWW5P",
        "colab": {
          "base_uri": "https://localhost:8080/"
        },
        "outputId": "98c420fb-a094-4423-c70e-d7267c91c3ce"
      },
      "outputs": [
        {
          "output_type": "stream",
          "name": "stdout",
          "text": [
            "Inorder traversal \n",
            "Francyne->Jerico->Tati->Jillian->Blix->Mureign->"
          ]
        }
      ],
      "source": [
        "print(\"Inorder traversal \")\n",
        "inorder(company)"
      ]
    },
    {
      "cell_type": "markdown",
      "metadata": {
        "id": "6_yuxNxcWW5Q"
      },
      "source": [
        "#### 3. Traverse the tree in pre-order traversal"
      ]
    },
    {
      "cell_type": "code",
      "execution_count": 24,
      "metadata": {
        "id": "v5Q9UhltWW5Q",
        "colab": {
          "base_uri": "https://localhost:8080/"
        },
        "outputId": "c844f267-510c-4a04-86b8-ae8f0ffd0e8e"
      },
      "outputs": [
        {
          "output_type": "stream",
          "name": "stdout",
          "text": [
            "\n",
            "Preorder traversal \n",
            "Tati->Jerico->Francyne->Blix->Jillian->Mureign->"
          ]
        }
      ],
      "source": [
        "print(\"\\nPreorder traversal \")\n",
        "preorder(company)"
      ]
    },
    {
      "cell_type": "markdown",
      "metadata": {
        "id": "g64SpZ2kWW5R"
      },
      "source": [
        "#### 4. Traverse the tree in post-order traversal"
      ]
    },
    {
      "cell_type": "code",
      "execution_count": 26,
      "metadata": {
        "id": "eGuxtIsDWW5R",
        "colab": {
          "base_uri": "https://localhost:8080/"
        },
        "outputId": "3ad17d84-a880-48c3-d3c9-e0209e90f7e0"
      },
      "outputs": [
        {
          "output_type": "stream",
          "name": "stdout",
          "text": [
            "\n",
            "Postorder traversal \n",
            "Francyne->Jerico->Jillian->Mureign->Blix->Tati->"
          ]
        }
      ],
      "source": [
        "print(\"\\nPostorder traversal \")\n",
        "postorder(company)"
      ]
    }
  ],
  "metadata": {
    "kernelspec": {
      "display_name": "Python 3",
      "language": "python",
      "name": "python3"
    },
    "language_info": {
      "codemirror_mode": {
        "name": "ipython",
        "version": 3
      },
      "file_extension": ".py",
      "mimetype": "text/x-python",
      "name": "python",
      "nbconvert_exporter": "python",
      "pygments_lexer": "ipython3",
      "version": "3.11.4"
    },
    "orig_nbformat": 4,
    "colab": {
      "provenance": []
    }
  },
  "nbformat": 4,
  "nbformat_minor": 0
}