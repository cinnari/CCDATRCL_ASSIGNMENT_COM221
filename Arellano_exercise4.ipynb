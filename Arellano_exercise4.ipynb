{
  "cells": [
    {
      "cell_type": "markdown",
      "metadata": {
        "id": "fCO3VeNzvGDc"
      },
      "source": [
        "# Exercise 4"
      ]
    },
    {
      "cell_type": "markdown",
      "metadata": {
        "id": "Dihqwh-aFw0t"
      },
      "source": [
        "#### Pre-defined sorting algorithms"
      ]
    },
    {
      "cell_type": "code",
      "execution_count": 2,
      "metadata": {
        "id": "nTzq9RfsFw0u"
      },
      "outputs": [],
      "source": [
        "def mergeSort(array):\n",
        "    if len(array) > 1:\n",
        "\n",
        "        #  r is the point where the array is divided into two subarrays\n",
        "        r = len(array)//2\n",
        "        L = array[:r]\n",
        "        M = array[r:]\n",
        "\n",
        "        # Sort the two halves\n",
        "        mergeSort(L)\n",
        "        mergeSort(M)\n",
        "\n",
        "        i = j = k = 0\n",
        "\n",
        "        # Until we reach either end of either L or M, pick larger among\n",
        "        # elements L and M and place them in the correct position at A[p..r]\n",
        "        while i < len(L) and j < len(M):\n",
        "            if L[i] < M[j]:\n",
        "                array[k] = L[i]\n",
        "                i += 1\n",
        "            else:\n",
        "                array[k] = M[j]\n",
        "                j += 1\n",
        "            k += 1\n",
        "\n",
        "        # When we run out of elements in either L or M,\n",
        "        # pick up the remaining elements and put in A[p..r]\n",
        "        while i < len(L):\n",
        "            array[k] = L[i]\n",
        "            i += 1\n",
        "            k += 1\n",
        "\n",
        "        while j < len(M):\n",
        "            array[k] = M[j]\n",
        "            j += 1\n",
        "            k += 1\n",
        "\n",
        "# Print the array\n",
        "def printList(array):\n",
        "    for i in range(len(array)):\n",
        "        print(array[i], end=\" \")\n",
        "    print()"
      ]
    },
    {
      "cell_type": "code",
      "execution_count": 3,
      "metadata": {
        "id": "cbzGzJfLFw0w"
      },
      "outputs": [],
      "source": [
        "def countingSort(array):\n",
        "    size = len(array)\n",
        "    output = [0] * size\n",
        "\n",
        "    # Initialize count array\n",
        "    count = [0] * 10\n",
        "\n",
        "    # Store the count of each elements in count array\n",
        "    for i in range(0, size):\n",
        "        count[array[i]] += 1\n",
        "\n",
        "    # Store the cummulative count\n",
        "    for i in range(1, 10):\n",
        "        count[i] += count[i - 1]\n",
        "\n",
        "    # Find the index of each element of the original array in count array\n",
        "    # place the elements in output array\n",
        "    i = size - 1\n",
        "    while i >= 0:\n",
        "        output[count[array[i]] - 1] = array[i]\n",
        "        count[array[i]] -= 1\n",
        "        i -= 1\n",
        "\n",
        "    # Copy the sorted elements into original array\n",
        "    for i in range(0, size):\n",
        "        array[i] = output[i]"
      ]
    },
    {
      "cell_type": "code",
      "execution_count": 4,
      "metadata": {
        "id": "pEABrF3xFw0w"
      },
      "outputs": [],
      "source": [
        "def insertionSort(array):\n",
        "\n",
        "    for step in range(1, len(array)):\n",
        "        key = array[step]\n",
        "        j = step - 1\n",
        "\n",
        "        # Compare key with each element on the left of it until an element smaller than it is found\n",
        "        # For descending order, change key<array[j] to key>array[j].\n",
        "        while j >= 0 and key < array[j]:\n",
        "            array[j + 1] = array[j]\n",
        "            j = j - 1\n",
        "\n",
        "        # Place key at after the element just smaller than it.\n",
        "        array[j + 1] = key"
      ]
    },
    {
      "cell_type": "code",
      "execution_count": 5,
      "metadata": {
        "id": "vSbqWQPPFw0x"
      },
      "outputs": [],
      "source": [
        "# Bubble sort in Python\n",
        "def bubbleSort(array):\n",
        "\n",
        "  # loop to access each array element\n",
        "  for i in range(len(array)):\n",
        "\n",
        "    # loop to compare array elements\n",
        "    for j in range(0, len(array) - i - 1):\n",
        "\n",
        "      # compare two adjacent elements\n",
        "      # change > to < to sort in descending order\n",
        "      if array[j] > array[j + 1]:\n",
        "\n",
        "        # swapping elements if elements\n",
        "        # are not in the intended order\n",
        "        temp = array[j]\n",
        "        array[j] = array[j+1]\n",
        "        array[j+1] = temp"
      ]
    },
    {
      "cell_type": "markdown",
      "metadata": {
        "id": "6j9PZVsyvGDe"
      },
      "source": [
        "#### 1. Sort your **student number** in **ascending order**\n",
        "\n",
        "Example:\n",
        "\n",
        "**Input: 2022123456**\n",
        "\n",
        "**Output: 0122223456**"
      ]
    },
    {
      "cell_type": "code",
      "execution_count": 6,
      "metadata": {
        "id": "UuNMRCm3vGDe",
        "colab": {
          "base_uri": "https://localhost:8080/"
        },
        "outputId": "90202479-fae0-48ba-cab8-7f55a2cc41e6"
      },
      "outputs": [
        {
          "output_type": "stream",
          "name": "stdout",
          "text": [
            "[0, 0, 1, 1, 1, 2, 2, 2, 4, 9]\n"
          ]
        }
      ],
      "source": [
        "# declare\n",
        "StNum = [2, 0, 2, 2, 1, 0, 9, 1, 4, 1]\n",
        "\n",
        "# use the given insertion sort\n",
        "insertionSort(StNum)\n",
        "\n",
        "#print\n",
        "print(StNum)\n"
      ]
    },
    {
      "cell_type": "markdown",
      "metadata": {
        "id": "felukBjnvGDf"
      },
      "source": [
        "#### 2. Sort the **dates** in **ascending order**.\n",
        "\n",
        "dates = [\"12-25-2023\", birthday, \"01-01-2023\"]\n",
        "\n",
        "Enter your birthday in the birthday variable."
      ]
    },
    {
      "cell_type": "code",
      "source": [
        "# function to convert each dates into new dates\n",
        "def split_dates(dates):\n",
        "    # to split the date with the use of \"-\"\n",
        "    # as it creates a list of strings representin the day, month, and year.\n",
        "    events = dates.split(\"-\")\n",
        "    # to make the date into a numeric value in the format YYYYMMDD (20020430)\n",
        "    return int(events[2]) * 10000 + int(events[0]) * 100 + int(events[1])\n",
        "\n",
        "# to compare the numeric value of the previous function\n",
        "def selection_sort(dates):\n",
        "    # to calculate the length of the given\n",
        "    n = len(dates)\n",
        "\n",
        "    for i in range(n):\n",
        "        smaller = i\n",
        "        for j in range(i + 1, n):\n",
        "            # to compare the numeric representations of two dates to determine their chronological order\n",
        "            if split_dates(dates[j]) < split_dates(dates[smaller]):\n",
        "                smaller = j\n",
        "\n",
        "        # to move the smallest date to the correct position in the array\n",
        "        dates[i], dates[smaller] = dates[smaller], dates[i]"
      ],
      "metadata": {
        "id": "ah69_yEaNKBn"
      },
      "execution_count": 9,
      "outputs": []
    },
    {
      "cell_type": "code",
      "execution_count": 10,
      "metadata": {
        "id": "f8xQ3N0jvGDg",
        "colab": {
          "base_uri": "https://localhost:8080/"
        },
        "outputId": "8bad348e-2c1b-4b36-fbb6-c4551440dd0d"
      },
      "outputs": [
        {
          "output_type": "stream",
          "name": "stdout",
          "text": [
            "['04-30-2002', '01-01-2023', '12-25-2023']\n"
          ]
        }
      ],
      "source": [
        "# representation value\n",
        "birthday = \"04-30-2002\"\n",
        "\n",
        "# given\n",
        "dates = [\"12-25-2023\", birthday, \"01-01-2023\"]\n",
        "\n",
        "# implementation of function\n",
        "selection_sort(dates)\n",
        "#printt\n",
        "print(dates)\n"
      ]
    },
    {
      "cell_type": "markdown",
      "source": [],
      "metadata": {
        "id": "n_ck6Cd7SKmC"
      }
    },
    {
      "cell_type": "markdown",
      "metadata": {
        "id": "IFDPeGZxvGDg"
      },
      "source": [
        "#### 3. Count the **total number of swaps** to sort the list below using **Bubble Sort**\n",
        "\n",
        "|3|2|5|1|4|\n",
        "|---|----|---|---|---|"
      ]
    },
    {
      "cell_type": "code",
      "source": [
        "# function to count the swaps in a bubble sort\n",
        "def swap_count(given):\n",
        "    # counts the length of the given array\n",
        "    n = len(given)\n",
        "    # initialize\n",
        "    swaps = 0\n",
        "\n",
        "    # to move the largest element to its correct position\n",
        "    for i in range(n):\n",
        "        # to check if any switched elements were done during the inner loop\n",
        "        switched = False\n",
        "\n",
        "        # iterates over the elements of the list\n",
        "        # this lessens the indices as the large elements are being placed correctly\n",
        "        for j in range(0, n - i - 1):\n",
        "            if given[j] > given[j + 1]:\n",
        "                given[j], given[j + 1] = given[j + 1], given[j]\n",
        "                # indicates that an element has been switched\n",
        "                switched = True\n",
        "                swaps += 1\n",
        "\n",
        "    # return value\n",
        "    return swaps"
      ],
      "metadata": {
        "id": "li55sitDS8pH"
      },
      "execution_count": 14,
      "outputs": []
    },
    {
      "cell_type": "code",
      "source": [
        "# put your answer here\n",
        "numbers = [3, 2, 5, 1, 4]\n",
        "\n",
        "# equates the returned value to the swap counting function\n",
        "swaps = swap_count(numbers)\n",
        "\n",
        "#print\n",
        "print(swaps)"
      ],
      "metadata": {
        "colab": {
          "base_uri": "https://localhost:8080/"
        },
        "id": "2RLyIUPZLyiF",
        "outputId": "abecf3db-9720-4dc7-9d9b-ecc6fcb0ba11"
      },
      "execution_count": 22,
      "outputs": [
        {
          "output_type": "stream",
          "name": "stdout",
          "text": [
            "5\n"
          ]
        }
      ]
    },
    {
      "cell_type": "markdown",
      "metadata": {
        "id": "iO2UusQWvGDi"
      },
      "source": [
        "#### 4. Count the **total number of steps** to sort the list below using **Insertion Sort**\n",
        "\n",
        "\n",
        "|6|2|5|7|4|1|8|9|3|\n",
        "|---|---|---|---|---|---|---|---|---|"
      ]
    },
    {
      "cell_type": "code",
      "execution_count": 24,
      "metadata": {
        "id": "vq1PYEjmvGDi"
      },
      "outputs": [],
      "source": [
        "# function to count the steps in a insertion sort\n",
        "def step_count(given):\n",
        "    # initialize\n",
        "    steps = 0\n",
        "\n",
        "    # to compare each element within the given array\n",
        "    for step in range(1, len(given)):\n",
        "        # selects the element then assigns it to the variable\n",
        "        key = given[step]\n",
        "        j = step - 1\n",
        "\n",
        "        # a loop that continues as long as 'j' is greater than or equal to 0\n",
        "        # and that 'key' is less than the element at index 'j'\n",
        "        while j >= 0 and key < given[j]:\n",
        "            given[j + 1] = given[j]\n",
        "            j = j - 1\n",
        "            steps += 1\n",
        "\n",
        "        # to assign the 'key' value to the position just after 'j'\n",
        "        given[j + 1] = key\n",
        "        steps += 1\n",
        "\n",
        "    # return value\n",
        "    return steps"
      ]
    },
    {
      "cell_type": "code",
      "source": [
        "# put your answer here\n",
        "numbers = [6, 2, 5, 7, 4, 1, 8, 9, 3]\n",
        "\n",
        "# equates the returned value to the swap counting function\n",
        "steps = step_count(numbers)\n",
        "\n",
        "#print\n",
        "print(steps)"
      ],
      "metadata": {
        "colab": {
          "base_uri": "https://localhost:8080/"
        },
        "id": "4GLGQkasYfCF",
        "outputId": "0dd92318-d3ed-48ff-e8ef-b50b253a33b1"
      },
      "execution_count": 23,
      "outputs": [
        {
          "output_type": "stream",
          "name": "stdout",
          "text": [
            "24\n"
          ]
        }
      ]
    },
    {
      "cell_type": "markdown",
      "metadata": {
        "id": "jpfNCCdbvGDj"
      },
      "source": [
        "#### 5. Given the list below:\n",
        "\n",
        "\n",
        "|77|55|24|63|22|5|47|18|\n",
        "|---|---|---|---|---|---|---|---|\n",
        "\n",
        "Using **merge sort** and **counting sort**\n",
        "\n",
        "Determine which sorting algorithm is faster by counting the total number of steps for each algorithm\n"
      ]
    },
    {
      "cell_type": "code",
      "source": [
        "# function to count the steps in a counting sort\n",
        "def counting_steps(given):\n",
        "    # find the maximum and minimum values in the given\n",
        "    max_val = max(given)\n",
        "    min_val = min(given)\n",
        "\n",
        "    # to make a counting array to count the appearance of each value\n",
        "    count_array = [0] * (max_val - min_val + 1)\n",
        "\n",
        "    # initialize\n",
        "    steps = 0\n",
        "\n",
        "    # to count the appearance of each element in the given\n",
        "    for num in given:\n",
        "        count_array[num - min_val] += 1\n",
        "\n",
        "    # creates a container\n",
        "    sorted_array = []\n",
        "    # loop to to sort the array\n",
        "    for i in range(len(count_array)):\n",
        "        while count_array[i] > 0:\n",
        "            sorted_array.append(i + min_val)\n",
        "            count_array[i] -= 1\n",
        "            steps += 1\n",
        "\n",
        "    # return value\n",
        "    return sorted_array, steps\n",
        "\n",
        "# given\n",
        "given = [7, 5, 4, 3, 2, 5, 1, 8]\n",
        "\n",
        "# equates the returned value to the swap counter and the merge sort function\n",
        "sorted_array, steps = counting_steps(given)\n",
        "\n",
        "# print\n",
        "print(sorted_array)\n",
        "print(steps)"
      ],
      "metadata": {
        "colab": {
          "base_uri": "https://localhost:8080/"
        },
        "id": "TbNVbCyso9nc",
        "outputId": "b06d409e-5816-4d07-dfdd-85bdbbbf916a"
      },
      "execution_count": 45,
      "outputs": [
        {
          "output_type": "stream",
          "name": "stdout",
          "text": [
            "[1, 2, 3, 4, 5, 5, 7, 8]\n",
            "8\n"
          ]
        }
      ]
    },
    {
      "cell_type": "code",
      "source": [
        "# function to count the steps in a merge sort\n",
        "def merge_step(given):\n",
        "    # function to merge sort the given\n",
        "    def merge(left, right):\n",
        "        merged = []\n",
        "        i = j = 0\n",
        "        steps = 0\n",
        "\n",
        "        # to merge the two sorted subarrays\n",
        "        while i < len(left) and j < len(right):\n",
        "            if left[i] < right[j]:\n",
        "                merged.append(left[i])\n",
        "                i += 1\n",
        "            else:\n",
        "                merged.append(right[j])\n",
        "                j += 1\n",
        "            steps += 1\n",
        "\n",
        "        # to ensure that no elements are left out during the sorting\n",
        "        merged.extend(left[i:])\n",
        "        merged.extend(right[j:])\n",
        "\n",
        "        # return value\n",
        "        return merged, steps\n",
        "\n",
        "    # continuation of merge step counting\n",
        "    if len(given) <= 1:\n",
        "        return given, 0\n",
        "\n",
        "    mid = len(given) // 2\n",
        "    left, left_steps = merge_step(given[:mid])\n",
        "    right, right_steps = merge_step(given[mid:])\n",
        "    merged_given, merge_steps = merge(left, right)\n",
        "\n",
        "    # to calculate the total number of steps taken during sorting\n",
        "    total_steps = left_steps + right_steps + merge_steps\n",
        "    return merged_given, total_steps\n",
        "\n",
        "# given\n",
        "given = [7, 5, 4, 3, 2, 5, 1, 8]\n",
        "\n",
        "# equates the returned value to the swap counter and the merge sort function\n",
        "sorted_given, steps = merge_step(given)\n",
        "\n",
        "# print\n",
        "print(sorted_given)\n",
        "print(steps)"
      ],
      "metadata": {
        "colab": {
          "base_uri": "https://localhost:8080/"
        },
        "id": "uHUfWNETpEPY",
        "outputId": "aa2cc11f-a023-46e7-9a27-933aa24d2203"
      },
      "execution_count": 51,
      "outputs": [
        {
          "output_type": "stream",
          "name": "stdout",
          "text": [
            "[1, 2, 3, 4, 5, 5, 7, 8]\n",
            "16\n"
          ]
        }
      ]
    },
    {
      "cell_type": "code",
      "source": [
        "merge_steps = 16\n",
        "\n",
        "counting_steps = 8\n",
        "\n",
        "if merge_steps < counting_steps:\n",
        "    print(\"Merge Sort is faster\")\n",
        "elif merge_steps > counting_steps:\n",
        "    print(\"Counting Sort is faster\")\n",
        "else:\n",
        "    print(\"Both algorithms have the same number of steps.\")"
      ],
      "metadata": {
        "colab": {
          "base_uri": "https://localhost:8080/"
        },
        "id": "s3QHF5tgiOB6",
        "outputId": "1d9854b7-0591-423a-87f4-47200840360f"
      },
      "execution_count": 52,
      "outputs": [
        {
          "output_type": "stream",
          "name": "stdout",
          "text": [
            "Counting Sort is faster\n"
          ]
        }
      ]
    }
  ],
  "metadata": {
    "colab": {
      "provenance": []
    },
    "kernelspec": {
      "display_name": "Python 3",
      "language": "python",
      "name": "python3"
    },
    "language_info": {
      "codemirror_mode": {
        "name": "ipython",
        "version": 3
      },
      "file_extension": ".py",
      "mimetype": "text/x-python",
      "name": "python",
      "nbconvert_exporter": "python",
      "pygments_lexer": "ipython3",
      "version": "3.11.4"
    },
    "orig_nbformat": 4
  },
  "nbformat": 4,
  "nbformat_minor": 0
}