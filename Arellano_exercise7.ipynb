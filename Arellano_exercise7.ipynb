{
  "cells": [
    {
      "cell_type": "markdown",
      "metadata": {
        "id": "e3Ja3uozAJlw"
      },
      "source": [
        "# Exercise 7"
      ]
    },
    {
      "cell_type": "code",
      "execution_count": 39,
      "metadata": {
        "id": "IW6uTwU8AJly"
      },
      "outputs": [],
      "source": [
        "class Node:\n",
        "    def __init__(self, item):\n",
        "        self.left = None\n",
        "        self.right = None\n",
        "        self.val = item"
      ]
    },
    {
      "cell_type": "code",
      "execution_count": 40,
      "metadata": {
        "id": "uxVFuimIAJlz"
      },
      "outputs": [],
      "source": [
        "def evaluateExpressionTree(root):\n",
        "\n",
        "    # empty tree\n",
        "    if root is None:\n",
        "        return 0\n",
        "\n",
        "    # leaf node\n",
        "    if root.left is None and root.right is None:\n",
        "        return int(root.val)\n",
        "\n",
        "    # evaluate left tree\n",
        "    left_sum = evaluateExpressionTree(root.left)\n",
        "\n",
        "    # evaluate right tree\n",
        "    right_sum = evaluateExpressionTree(root.right)\n",
        "\n",
        "    # check which operation to apply\n",
        "    if root.val == '+':\n",
        "        return left_sum + right_sum\n",
        "\n",
        "    elif root.val == '-':\n",
        "        return left_sum - right_sum\n",
        "\n",
        "    elif root.val == '*':\n",
        "        return left_sum * right_sum\n",
        "\n",
        "    else:\n",
        "        return left_sum / right_sum"
      ]
    },
    {
      "cell_type": "code",
      "execution_count": 41,
      "metadata": {
        "id": "-xWZXA-mAJl0"
      },
      "outputs": [],
      "source": [
        "def inorder(root):\n",
        "\n",
        "    if root:\n",
        "        # Traverse left\n",
        "        inorder(root.left)\n",
        "        # Traverse root\n",
        "        print(str(root.val) + \"->\", end='')\n",
        "        # Traverse right\n",
        "        inorder(root.right)"
      ]
    },
    {
      "cell_type": "markdown",
      "metadata": {
        "id": "CVtqxh5DAJl1"
      },
      "source": [
        "#### 1. Construct a binary expression tree\n",
        "\n",
        "\n",
        "- Use the evaluateExpressionTree method to get the result of the expression\n",
        "- Use the inorder method to traverse the tree  \n",
        "\n",
        "$$ (8 + 4) * (7 - 9) $$"
      ]
    },
    {
      "cell_type": "code",
      "execution_count": 42,
      "metadata": {
        "id": "CxpP0zcVAJl1"
      },
      "outputs": [],
      "source": [
        "#root and node labeling\n",
        "root = Node(\"*\")\n",
        "node1 = Node(\"+\")\n",
        "node2 = Node(\"8\")\n",
        "node3 = Node(\"4\")\n",
        "node4 = Node(\"-\")\n",
        "node5 = Node(\"7\")\n",
        "node6 = Node(\"9\")\n",
        "\n",
        "#root and node directing\n",
        "root.left = node1\n",
        "node1.left = node2\n",
        "node1.right = node3\n",
        "root.right = node4\n",
        "node4.left = node5\n",
        "node4.right = node6"
      ]
    },
    {
      "cell_type": "code",
      "source": [
        "evaluateExpressionTree(root)"
      ],
      "metadata": {
        "colab": {
          "base_uri": "https://localhost:8080/"
        },
        "id": "miCVbvdinoQY",
        "outputId": "051cbb8e-a86a-4276-b85c-8071996e31c9"
      },
      "execution_count": 43,
      "outputs": [
        {
          "output_type": "execute_result",
          "data": {
            "text/plain": [
              "-24"
            ]
          },
          "metadata": {},
          "execution_count": 43
        }
      ]
    },
    {
      "cell_type": "code",
      "source": [
        "inorder(root)"
      ],
      "metadata": {
        "colab": {
          "base_uri": "https://localhost:8080/"
        },
        "id": "LWbn1i9An1yJ",
        "outputId": "bfa53077-9128-4746-f945-bd231cbaa624"
      },
      "execution_count": 44,
      "outputs": [
        {
          "output_type": "stream",
          "name": "stdout",
          "text": [
            "8->+->4->*->7->-->9->"
          ]
        }
      ]
    },
    {
      "cell_type": "markdown",
      "metadata": {
        "id": "jc5KHLk6AJl2"
      },
      "source": [
        "#### 2. Construct a binary expression tree\n",
        "\n",
        "- Use the evaluateExpressionTree method to get the result of the expression\n",
        "- Use the inorder method to traverse the tree  \n",
        "\n",
        "$$ 5 / 8 + 3 - 6 * 1 $$"
      ]
    },
    {
      "cell_type": "code",
      "execution_count": 45,
      "metadata": {
        "id": "XORzqkC3AJl2"
      },
      "outputs": [],
      "source": [
        "#root and node labeling\n",
        "root2 = Node(\"-\")\n",
        "node1 = Node(\"+\")\n",
        "node2 = Node(\"/\")\n",
        "node3 = Node(\"5\")\n",
        "node4 = Node(\"8\")\n",
        "node5 = Node(\"3\")\n",
        "node6 = Node(\"*\")\n",
        "node7 = Node(\"6\")\n",
        "node8 = Node(\"1\")\n",
        "\n",
        "#root and node directing\n",
        "root2.left = node1\n",
        "node1.left = node2\n",
        "node1.right = node5\n",
        "node2.left = node3\n",
        "node2.right = node4\n",
        "\n",
        "root2.right = node6\n",
        "node6.left = node7\n",
        "node6.right = node8"
      ]
    },
    {
      "cell_type": "code",
      "source": [
        "evaluateExpressionTree(root2)"
      ],
      "metadata": {
        "colab": {
          "base_uri": "https://localhost:8080/"
        },
        "id": "0sEczdV6rWMC",
        "outputId": "643aa68c-3bb6-4ae6-cd25-05367219ca00"
      },
      "execution_count": 46,
      "outputs": [
        {
          "output_type": "execute_result",
          "data": {
            "text/plain": [
              "-2.375"
            ]
          },
          "metadata": {},
          "execution_count": 46
        }
      ]
    },
    {
      "cell_type": "code",
      "source": [
        "inorder(root2)"
      ],
      "metadata": {
        "colab": {
          "base_uri": "https://localhost:8080/"
        },
        "id": "O_70PB4xrWxf",
        "outputId": "26ab10c6-b159-4df9-c837-9aa971222b29"
      },
      "execution_count": 47,
      "outputs": [
        {
          "output_type": "stream",
          "name": "stdout",
          "text": [
            "5->/->8->+->3->-->6->*->1->"
          ]
        }
      ]
    },
    {
      "cell_type": "markdown",
      "metadata": {
        "id": "tu3n5ZdWAJl2"
      },
      "source": [
        "#### 3. Construct a binary expression tree\n",
        "\n",
        "- Use the evaluateExpressionTree method to get the result of the expression\n",
        "- Use the inorder method to traverse the tree  \n",
        "\n",
        "$$ ((2 + 5) / 3)- (3 + 8) $$"
      ]
    },
    {
      "cell_type": "code",
      "execution_count": 48,
      "metadata": {
        "id": "5GvZBxgtAJl3"
      },
      "outputs": [],
      "source": [
        "#root and node labeling\n",
        "root3 = Node(\"-\")\n",
        "node1 = Node(\"/\")\n",
        "node2 = Node(\"+\")\n",
        "node3 = Node(\"2\")\n",
        "node4 = Node(\"5\")\n",
        "node5 = Node(\"3\")\n",
        "node6 = Node(\"+\")\n",
        "node7 = Node(\"3\")\n",
        "node8 = Node(\"8\")\n",
        "\n",
        "#root and node directing\n",
        "root3.left = node1\n",
        "node1.left = node2\n",
        "node1.right = node5\n",
        "node2.left = node3\n",
        "node2.right = node4\n",
        "\n",
        "root3.right = node6\n",
        "node6.left = node7\n",
        "node6.right = node8"
      ]
    },
    {
      "cell_type": "code",
      "source": [
        "evaluateExpressionTree(root3)"
      ],
      "metadata": {
        "colab": {
          "base_uri": "https://localhost:8080/"
        },
        "id": "-TLuJ4SWsnOZ",
        "outputId": "6c717129-2196-4bfe-f616-ca28f1b931e7"
      },
      "execution_count": 49,
      "outputs": [
        {
          "output_type": "execute_result",
          "data": {
            "text/plain": [
              "-8.666666666666666"
            ]
          },
          "metadata": {},
          "execution_count": 49
        }
      ]
    },
    {
      "cell_type": "code",
      "source": [
        "inorder(root3)"
      ],
      "metadata": {
        "colab": {
          "base_uri": "https://localhost:8080/"
        },
        "id": "krYyY65UspKO",
        "outputId": "0610e6d3-2f3a-47a8-e24f-f204cd1c2334"
      },
      "execution_count": 50,
      "outputs": [
        {
          "output_type": "stream",
          "name": "stdout",
          "text": [
            "2->+->5->/->3->-->3->+->8->"
          ]
        }
      ]
    }
  ],
  "metadata": {
    "kernelspec": {
      "display_name": "Python 3",
      "language": "python",
      "name": "python3"
    },
    "language_info": {
      "codemirror_mode": {
        "name": "ipython",
        "version": 3
      },
      "file_extension": ".py",
      "mimetype": "text/x-python",
      "name": "python",
      "nbconvert_exporter": "python",
      "pygments_lexer": "ipython3",
      "version": "3.11.4"
    },
    "orig_nbformat": 4,
    "colab": {
      "provenance": []
    }
  },
  "nbformat": 4,
  "nbformat_minor": 0
}