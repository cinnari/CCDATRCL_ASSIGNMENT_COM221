{
  "cells": [
    {
      "cell_type": "markdown",
      "metadata": {
        "id": "h2vFiYhGzZOg"
      },
      "source": [
        "# Exercise 1"
      ]
    },
    {
      "cell_type": "markdown",
      "source": [
        "## Class Initialization"
      ],
      "metadata": {
        "id": "sRm6kPQozcaU"
      }
    },
    {
      "cell_type": "code",
      "execution_count": null,
      "metadata": {
        "id": "b1u4Dt9mzZOi"
      },
      "outputs": [],
      "source": [
        "class Node:\n",
        "    def __init__(self, data):\n",
        "        self.data = data\n",
        "        self.next = None"
      ]
    },
    {
      "cell_type": "code",
      "execution_count": null,
      "metadata": {
        "id": "tigvHSaHzZOj"
      },
      "outputs": [],
      "source": [
        "class LinkedList:\n",
        "\n",
        "    def __init__(self):\n",
        "        self.head = None\n",
        "\n",
        "    def traverse(self, node):\n",
        "        while node:\n",
        "            print(node.data, end=\" -> \")\n",
        "            node = node.next"
      ]
    },
    {
      "cell_type": "code",
      "execution_count": null,
      "metadata": {
        "id": "LIkQBioVzZOk"
      },
      "outputs": [],
      "source": [
        "class DoublyLinkedList:\n",
        "\n",
        "    def __init__(self):\n",
        "        self.head = None\n",
        "\n",
        "    def traverse(self, node):\n",
        "        while node:\n",
        "            print(node.data, end=\" -> \")\n",
        "            node = node.next"
      ]
    },
    {
      "cell_type": "code",
      "execution_count": null,
      "metadata": {
        "id": "zlxNT5EozZOl"
      },
      "outputs": [],
      "source": [
        "class CircularLinkedList:\n",
        "\n",
        "    def __init__(self):\n",
        "        self.head = None\n",
        "\n",
        "    def traverse(self, node):\n",
        "\n",
        "        head = node\n",
        "\n",
        "        while node:\n",
        "            print(node.data, end=\" -> \")\n",
        "            node = node.next\n",
        "\n",
        "            # Break to prevent infinite loop\n",
        "            if node == head:\n",
        "                break"
      ]
    },
    {
      "cell_type": "markdown",
      "metadata": {
        "id": "O68-Q1-bzZOl"
      },
      "source": [
        "#### 1. Create a Singly Linked list\n",
        "\n",
        "- Each node should contain your name and your seatmates in your row\n",
        "- Create at least 5 nodes\n",
        "- Traverse all nodes"
      ]
    },
    {
      "cell_type": "code",
      "source": [
        "singlylinked_list = LinkedList()\n",
        "singlylinked_list.head = Node(\"Gerick\")\n",
        "node_b = Node(\"Franze\")\n",
        "node_c = Node(\"Allen\")\n",
        "node_d = Node(\"Gian\")\n",
        "node_e = Node(\"Blix\")\n",
        "node_f = Node(\"Tati\")\n",
        "node_g = Node(\"Jerico\")\n"
      ],
      "metadata": {
        "id": "BcuW8buC2tcB"
      },
      "execution_count": null,
      "outputs": []
    },
    {
      "cell_type": "code",
      "source": [
        "singlylinked_list.head.next = node_b\n",
        "node_b.next = node_c\n",
        "node_c.next = node_d\n",
        "node_d.next = node_e\n",
        "node_e.next = node_f\n",
        "node_f.next = node_g"
      ],
      "metadata": {
        "id": "y2mhdRkR3VdZ"
      },
      "execution_count": null,
      "outputs": []
    },
    {
      "cell_type": "code",
      "source": [
        "singlylinked_list.traverse(singlylinked_list.head)"
      ],
      "metadata": {
        "id": "YYJGT4B62ycL",
        "outputId": "f3328bce-7584-47b2-c28b-d72f6eac1409",
        "colab": {
          "base_uri": "https://localhost:8080/"
        }
      },
      "execution_count": null,
      "outputs": [
        {
          "output_type": "stream",
          "name": "stdout",
          "text": [
            "Gerick -> Franze -> Allen -> Gian -> Blix -> Tati -> Jerico -> "
          ]
        }
      ]
    },
    {
      "cell_type": "markdown",
      "metadata": {
        "id": "IFgwbdw_zZOm"
      },
      "source": [
        "#### 2. Create a Doubly Linked list\n",
        "\n",
        "- Each node should contain your name and your seatmates in your row\n",
        "- Create at least 5 nodes\n",
        "- Traverse all nodes"
      ]
    },
    {
      "cell_type": "code",
      "execution_count": null,
      "metadata": {
        "id": "8kQD2A_QzZOm"
      },
      "outputs": [],
      "source": [
        "class Node:\n",
        "    def __init__(self, data):\n",
        "        self.data = data\n",
        "        self.next = None\n",
        "        self.prev = None"
      ]
    },
    {
      "cell_type": "code",
      "source": [
        "double = DoublyLinkedList()\n",
        "double.head = Node(\"Gerick\")\n",
        "node_b = Node(\"Franze\")\n",
        "node_c = Node(\"Allen\")\n",
        "node_d = Node(\"Gian\")\n",
        "node_e = Node(\"Blix\")\n",
        "node_f = Node(\"Tati\")\n",
        "node_g = Node(\"Jerico\")"
      ],
      "metadata": {
        "id": "CWGZTbFY3xaI"
      },
      "execution_count": null,
      "outputs": []
    },
    {
      "cell_type": "code",
      "source": [
        "double.head.next = node_b\n",
        "double.head.prev = None\n",
        "\n",
        "node_b.next = node_c\n",
        "node_b.prev = double.head\n",
        "\n",
        "node_c.next = node_d\n",
        "node_c.prev = node_b\n",
        "\n",
        "node_d.next = node_e\n",
        "node_d.prev = node_c\n",
        "\n",
        "node_e.next = node_f\n",
        "node_e.prev = node_d\n",
        "\n",
        "node_f.next = node_g\n",
        "node_f.prev = node_e\n",
        "\n",
        "node_g.next = None\n",
        "node_g.prev = node_f"
      ],
      "metadata": {
        "id": "tK0PYvNA5ZAr"
      },
      "execution_count": null,
      "outputs": []
    },
    {
      "cell_type": "code",
      "source": [
        "double.traverse(double.head)"
      ],
      "metadata": {
        "id": "WpnKktV36z0n",
        "outputId": "482caabd-81cf-472c-d9b1-eb9d63ed6810",
        "colab": {
          "base_uri": "https://localhost:8080/"
        }
      },
      "execution_count": null,
      "outputs": [
        {
          "output_type": "stream",
          "name": "stdout",
          "text": [
            "Gerick -> Franze -> Allen -> Gian -> Blix -> Tati -> Jerico -> "
          ]
        }
      ]
    },
    {
      "cell_type": "markdown",
      "metadata": {
        "id": "rtApbsCjzZOm"
      },
      "source": [
        "#### 3. Create a Circular Linked list\n",
        "\n",
        "- Each node should contain your name and your seatmates in your row\n",
        "- Create at least 5 nodes\n",
        "- Traverse all nodes"
      ]
    },
    {
      "cell_type": "code",
      "source": [
        "class Node:\n",
        "   def __init__(self, data):\n",
        "      self.data = data\n",
        "      self.next = None"
      ],
      "metadata": {
        "id": "uD0m4Phv-FvT"
      },
      "execution_count": null,
      "outputs": []
    },
    {
      "cell_type": "code",
      "execution_count": null,
      "metadata": {
        "id": "Gp1Oiq0jzZOn"
      },
      "outputs": [],
      "source": [
        "circle = CircularLinkedList()\n",
        "circle.head = Node(\"Gerick\")\n",
        "node_b = Node(\"Franze\")\n",
        "node_c = Node(\"Allen\")\n",
        "node_d = Node(\"Gian\")\n",
        "node_e = Node(\"Blix\")\n",
        "node_f = Node(\"Tati\")\n",
        "node_g = Node(\"Jerico\")"
      ]
    },
    {
      "cell_type": "code",
      "source": [
        "circle.head.next = node_b\n",
        "node_b.next = node_c\n",
        "node_c.next = node_d\n",
        "node_d.next = node_e\n",
        "node_e.next = node_f\n",
        "node_f.next = node_g\n",
        "node_g.next = None"
      ],
      "metadata": {
        "id": "T14jVPbN8_rT"
      },
      "execution_count": null,
      "outputs": []
    },
    {
      "cell_type": "code",
      "source": [
        "circle.traverse(circle.head)"
      ],
      "metadata": {
        "id": "HJM4YrLk9wl8",
        "outputId": "e9b58106-e18f-45a8-966e-cd6b103769c3",
        "colab": {
          "base_uri": "https://localhost:8080/"
        }
      },
      "execution_count": null,
      "outputs": [
        {
          "output_type": "stream",
          "name": "stdout",
          "text": [
            "Gerick -> Franze -> Allen -> Gian -> Blix -> Tati -> Jerico -> "
          ]
        }
      ]
    }
  ],
  "metadata": {
    "kernelspec": {
      "display_name": "Python 3",
      "language": "python",
      "name": "python3"
    },
    "language_info": {
      "name": "python",
      "version": "3.11.4"
    },
    "orig_nbformat": 4,
    "colab": {
      "provenance": []
    }
  },
  "nbformat": 4,
  "nbformat_minor": 0
}